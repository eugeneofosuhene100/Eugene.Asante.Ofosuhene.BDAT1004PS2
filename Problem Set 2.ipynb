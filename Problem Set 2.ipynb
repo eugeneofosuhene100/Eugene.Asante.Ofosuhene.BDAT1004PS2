{
 "cells": [
  {
   "cell_type": "markdown",
   "id": "b23e1a0f-bbf0-434a-bd06-f606f75abd6f",
   "metadata": {},
   "source": [
    "# Question 1"
   ]
  },
  {
   "cell_type": "code",
   "execution_count": 47,
   "id": "3dbe4add-1bef-4380-b475-7ed8bb6204f4",
   "metadata": {},
   "outputs": [
    {
     "data": {
      "text/plain": [
       "6"
      ]
     },
     "execution_count": 47,
     "metadata": {},
     "output_type": "execute_result"
    }
   ],
   "source": [
    "a = 0\n",
    "\n",
    "def b():\n",
    " global a\n",
    " a = c(a)\n",
    "    \n",
    "def c(a):\n",
    " return a + 2\n",
    "\n",
    "b()              #after this statement a values changes to 2         \n",
    "b()              #after this,a value further increases by 2 and becomes 4\n",
    "b()              #after this,a values increases by 2 and becomes 6\n",
    "a                #a value is printed which equates to 6"
   ]
  },
  {
   "cell_type": "markdown",
   "id": "d6df7efa-f369-4352-8a91-98b0a71c07fb",
   "metadata": {},
   "source": [
    "# Question 2"
   ]
  },
  {
   "cell_type": "code",
   "execution_count": 48,
   "id": "c54816cd-1315-4910-ad49-b1ffc1300227",
   "metadata": {},
   "outputs": [
    {
     "name": "stdout",
     "output_type": "stream",
     "text": [
      "123\n",
      "File ilelength.txt not found!!\n"
     ]
    }
   ],
   "source": [
    "def fileLength(filename): #defening function\n",
    "    try:\n",
    "        inputfile = open(filename)\n",
    "        words = inputfile.read()\n",
    "        inputfile.close()\n",
    "        print(len(words))\n",
    "    except:\n",
    "        print(\"File \"+filename+\" not found!!\")\n",
    "fileLength(\"Filelength.txt\") #This calls a function with an actual input\n",
    "fileLength(\"ilelength.txt\")  #This calls a function to detect error"
   ]
  },
  {
   "cell_type": "markdown",
   "id": "8a57f803-e43d-4973-a830-3934115d8ffc",
   "metadata": {},
   "source": [
    "# Question 3"
   ]
  },
  {
   "cell_type": "code",
   "execution_count": 49,
   "id": "de35d762-d4de-4025-b286-210522b6450c",
   "metadata": {},
   "outputs": [
    {
     "name": "stdout",
     "output_type": "stream",
     "text": [
      "I am a Kangaroo located at coordinates ( 0,0)\n",
      "['doll', 'firetruck', 'kitten']\n",
      "I am a Kangaroo located at coordinates ( 3,0)\n"
     ]
    }
   ],
   "source": [
    "class Marsupial:                 #parent class initialized here\n",
    "    def __init__(self,x,y):       #defining constructor here\n",
    "        self.pouch=[]                   \n",
    "             \n",
    "    def put_in_pouch(self,items):   # appending items to pouch\n",
    "        self.pouch.append(items)\n",
    "        \n",
    "    def pouch_contents(self):           \n",
    "        return self.pouch\n",
    "\n",
    "class Kangaroo(Marsupial):         #creating sub-class \n",
    "    def __init__(self,x,y):              \n",
    "        super().__init__(x,y)     #super constructor\n",
    "        self.dx = 0                      \n",
    "        self.dy = 0                        \n",
    "    \n",
    "    def jump(self,x,y):                 \n",
    "        self.dx = self.dx + x    #defining jump function to jump the coordinates of Kangaroo as per input \n",
    "        self.dy = self.dy + y\n",
    "    \n",
    "    def __str__(self):         \n",
    "        \n",
    "        return ('I am a Kangaroo located at coordinates ( {},{})'.format(self.dx,self.dy))\n",
    "\n",
    "k = Kangaroo(0,0)\n",
    "print(k)\n",
    "k.put_in_pouch('doll')\n",
    "k.put_in_pouch('firetruck')\n",
    "k.put_in_pouch('kitten')\n",
    "k.pouch_contents()\n",
    "print(k.pouch)  \n",
    "k.jump(1,0)\n",
    "k.jump(1,0)\n",
    "k.jump(1,0)\n",
    "print(k)"
   ]
  },
  {
   "cell_type": "markdown",
   "id": "1d584d17-0683-4a53-b123-b34fa2130e49",
   "metadata": {},
   "source": [
    "# Question 4"
   ]
  },
  {
   "cell_type": "code",
   "execution_count": 50,
   "id": "87d04494-c553-4f1b-a43f-99e7988d0253",
   "metadata": {},
   "outputs": [
    {
     "name": "stdout",
     "output_type": "stream",
     "text": [
      "1\n",
      "\n",
      "\n",
      "10\n",
      "5\n",
      "16\n",
      "8\n",
      "4\n",
      "2\n",
      "1\n"
     ]
    }
   ],
   "source": [
    "def collatz (x):  #defining function\n",
    "    if(x != 1): \n",
    "        print(x )\n",
    "    if(x == 1):\n",
    "        print(x)\n",
    "        return x\n",
    "    if(x%2 == 0):  #even number\n",
    "        x = x // 2\n",
    "        collatz(x)\n",
    "    else:               #odd number\n",
    "        x= 3*x + 1\n",
    "        collatz(x)\n",
    "\n",
    "\n",
    "collatz(1)  \n",
    "print('\\n')\n",
    "collatz(10)"
   ]
  },
  {
   "cell_type": "markdown",
   "id": "376c59ff-393e-465e-9e84-9b6cbc974c60",
   "metadata": {},
   "source": [
    "# Question 5"
   ]
  },
  {
   "cell_type": "code",
   "execution_count": 51,
   "id": "b89ba36c-4958-47d3-a724-3e6a63b10220",
   "metadata": {},
   "outputs": [
    {
     "name": "stdout",
     "output_type": "stream",
     "text": [
      "0\n",
      "1\n",
      "11\n",
      "1001\n"
     ]
    }
   ],
   "source": [
    "binary_form =\"\"\n",
    "def binary (n):\n",
    "    global binary_form  #defining global variable\n",
    "    if(n==0): \n",
    "        print(\"0\")\n",
    "        \n",
    "    elif(n==1):\n",
    "        binary_form +=\"1\" #appending 1 to end of string\n",
    "        binary_form = binary_form [::-1] #reversing the string\n",
    "        print(binary_form)\n",
    "        binary_form=\"\"  #adding the global variable\n",
    "            \n",
    "    else:\n",
    "        x=\"\"\n",
    "        remainder = int(n%2)\n",
    "        x =str(remainder)\n",
    "        binary_form+=x  #appending remainder to binary format\n",
    "        n =int(n/2)\n",
    "        binary(n) #recursive function here\n",
    "\n",
    "        \n",
    "binary(0)\n",
    "binary(1)\n",
    "binary(3)\n",
    "binary(9)"
   ]
  },
  {
   "cell_type": "markdown",
   "id": "d9a00722-1594-4bf8-84a7-bfd32d2eda2a",
   "metadata": {},
   "source": [
    "# Question 6"
   ]
  },
  {
   "cell_type": "code",
   "execution_count": 52,
   "id": "2f283fdf-b24d-4ebe-9ed7-fef599f8697e",
   "metadata": {},
   "outputs": [
    {
     "name": "stdout",
     "output_type": "stream",
     "text": [
      "W3C Mission\n",
      " Principles\n"
     ]
    }
   ],
   "source": [
    "from html.parser import HTMLParser\n",
    "class HeadingParser(HTMLParser):\n",
    "    indent = -6 \n",
    "        \n",
    "    def handle_starttag(self, tag, attrs): #This function assigns indentation according to heading tag\n",
    "        if tag == 'h1':\n",
    "            self.indent = 0\n",
    "        elif tag == 'h2':\n",
    "            self.indent = 1\n",
    "        elif tag == 'h3':\n",
    "            self.indent = 2\n",
    "        elif tag == 'h4':\n",
    "            self.indent = 3\n",
    "        elif tag == 'h5':\n",
    "            self.indent = 4            \n",
    "        elif tag == 'h6':\n",
    "            self.indent = 5\n",
    "        else:\n",
    "            self.indent = -6\n",
    "               \n",
    "\n",
    "    def handle_data(self, data):\n",
    "        if data.strip() != \"\":\n",
    "            printWithIndentation(data, self.indent) #This calls the function to print heading\n",
    "        \n",
    "\n",
    "def printWithIndentation(text, indent):\n",
    "    if indent >= 0:\n",
    "        print(f\"{' ' * indent}{text}\")              #This prints the heading with indentation   \n",
    "\n",
    "input_file = open('w3c.html') \n",
    "content = input_file.read() \n",
    "input_file.close() \n",
    "\n",
    "headingParser = HeadingParser()\n",
    "headingParser.feed(content)\n"
   ]
  },
  {
   "cell_type": "markdown",
   "id": "9d832ea9-4c8b-4860-8a50-f68eb638279a",
   "metadata": {},
   "source": [
    "# Question 7"
   ]
  },
  {
   "cell_type": "code",
   "execution_count": 53,
   "id": "2e006980-c341-4643-8586-96a5efa8597c",
   "metadata": {},
   "outputs": [
    {
     "name": "stdout",
     "output_type": "stream",
     "text": [
      "http://reed.cs.depaul.edu/lperkovic/csc242/test1.html\n"
     ]
    }
   ],
   "source": [
    "import requests\n",
    "from bs4 import BeautifulSoup\n",
    "\n",
    "def webdir(url, depth, indent):\n",
    "    if depth == 0:\n",
    "        return\n",
    "    print(' ' * indent + url)\n",
    "    try:\n",
    "        response = requests.get(url)\n",
    "        content = response.content\n",
    "        soup = BeautifulSoup(content, 'html.parser')\n",
    "        links = soup.find_all('a')\n",
    "        for link in links:\n",
    "            href = link.get('href')\n",
    "            if href and href.startswith('http'):\n",
    "                webdir(href, depth - 1, indent + 1)\n",
    "    except requests.exceptions.RequestException as e:\n",
    "        print(f\"Error accessing {url}: {e}\")\n",
    "\n",
    "#Testing the function\n",
    "webdir('http://reed.cs.depaul.edu/lperkovic/csc242/test1.html', 2, 0)"
   ]
  },
  {
   "cell_type": "markdown",
   "id": "e4f571ec-e5e8-40ed-ba80-85e7436067b3",
   "metadata": {},
   "source": [
    "# Question 8"
   ]
  },
  {
   "cell_type": "code",
   "execution_count": 54,
   "id": "dac7189b-4a65-433e-bd54-ceca84892ee7",
   "metadata": {},
   "outputs": [
    {
     "name": "stdout",
     "output_type": "stream",
     "text": [
      "All the temperature data: [(24.8,), (28.4,), (27.9,), (27.6,), (4.2,), (8.3,), (15.7,), (10.4,), (13.6,), (20.7,), (27.7,), (22.2,)]\n",
      "All the cities, but without repetition: [('Mumbai',), ('London',), ('Cairo',)]\n",
      "All the records for India: [('Mumbai', 'India', 'Winter', 24.8, 5.9), ('Mumbai', 'India', 'Spring', 28.4, 16.2), ('Mumbai', 'India', 'Summer', 27.9, 1549.4), ('Mumbai', 'India', 'Fall', 27.6, 346.0)]\n",
      "All the Fall records: [('Mumbai', 'India', 'Fall', 27.6, 346.0), ('London', 'United Kingdom', 'Fall', 10.4, 218.5), ('Cairo', 'Egypt', 'Fall', 22.2, 4.5)]\n",
      "Average rainfall between 200 and 400 mm: [('Mumbai', 'India', 'Fall'), ('London', 'United Kingdom', 'Winter'), ('London', 'United Kingdom', 'Fall')]\n",
      "Fall temperature above 20 degrees: [('Cairo', 'Egypt'), ('Mumbai', 'India')]\n",
      "Total annual rainfall for Cairo: (27.6,)\n",
      "Total rainfall for each season: [('Fall', 569.0), ('Spring', 192.29999999999998), ('Summer', 1706.5), ('Winter', 230.1)]\n"
     ]
    }
   ],
   "source": [
    "import sqlite3\n",
    "\n",
    "def setup_database():\n",
    "    #Connect to SQLite database (or create it if it doesn't exist)\n",
    "    conn = sqlite3.connect('weather.db')\n",
    "    cursor = conn.cursor()\n",
    "\n",
    "    #Create table\n",
    "    cursor.execute('''\n",
    "        CREATE TABLE IF NOT EXISTS Weather (\n",
    "            City TEXT,\n",
    "            Country TEXT,\n",
    "            Season TEXT,\n",
    "            Temperature REAL,\n",
    "            Rainfall REAL\n",
    "        )\n",
    "    ''')\n",
    "\n",
    "    #Clear the table if it already exists to prevent duplicates\n",
    "    cursor.execute('DELETE FROM Weather')\n",
    "\n",
    "    #Insert data\n",
    "    data = [\n",
    "        ('Mumbai', 'India', 'Winter', 24.8, 5.9),\n",
    "        ('Mumbai', 'India', 'Spring', 28.4, 16.2),\n",
    "        ('Mumbai', 'India', 'Summer', 27.9, 1549.4),\n",
    "        ('Mumbai', 'India', 'Fall', 27.6, 346.0),\n",
    "        ('London', 'United Kingdom', 'Winter', 4.2, 207.7),\n",
    "        ('London', 'United Kingdom', 'Spring', 8.3, 169.6),\n",
    "        ('London', 'United Kingdom', 'Summer', 15.7, 157.0),\n",
    "        ('London', 'United Kingdom', 'Fall', 10.4, 218.5),\n",
    "        ('Cairo', 'Egypt', 'Winter', 13.6, 16.5),\n",
    "        ('Cairo', 'Egypt', 'Spring', 20.7, 6.5),\n",
    "        ('Cairo', 'Egypt', 'Summer', 27.7, 0.1),\n",
    "        ('Cairo', 'Egypt', 'Fall', 22.2, 4.5)\n",
    "    ]\n",
    "    cursor.executemany('INSERT INTO Weather VALUES (?,?,?,?,?)', data)\n",
    "\n",
    "    #Commit changes to the database\n",
    "    conn.commit()\n",
    "    conn.close()\n",
    "\n",
    "def run_queries():\n",
    "    #Connect to the database\n",
    "    conn = sqlite3.connect('weather.db')\n",
    "    cursor = conn.cursor()\n",
    "\n",
    "    #Query a) All the temperature data\n",
    "    cursor.execute('SELECT Temperature FROM Weather')\n",
    "    temperatures = cursor.fetchall()\n",
    "    print(\"All the temperature data:\", temperatures)\n",
    "\n",
    "    #Query b) All the cities, but without repetition\n",
    "    cursor.execute('SELECT DISTINCT City FROM Weather')\n",
    "    cities = cursor.fetchall()\n",
    "    print(\"All the cities, but without repetition:\", cities)\n",
    "\n",
    "    #Query c) All the records for India\n",
    "    cursor.execute(\"SELECT * FROM Weather WHERE Country = 'India'\")\n",
    "    india_records = cursor.fetchall()\n",
    "    print(\"All the records for India:\", india_records)\n",
    "\n",
    "    #Query d) All the Fall records\n",
    "    cursor.execute(\"SELECT * FROM Weather WHERE Season = 'Fall'\")\n",
    "    fall_records = cursor.fetchall()\n",
    "    print(\"All the Fall records:\", fall_records)\n",
    "\n",
    "    #Query e) The city, country, and season for which the average rainfall is between 200 and 400 millimeters\n",
    "    cursor.execute(\"SELECT City, Country, Season FROM Weather WHERE Rainfall BETWEEN 200 AND 400\")\n",
    "    rainfall_records = cursor.fetchall()\n",
    "    print(\"Average rainfall between 200 and 400 mm:\", rainfall_records)\n",
    "\n",
    "    #Query f) The city and country for which the average Fall temperature is above 20 degrees, in increasing temperature order\n",
    "    cursor.execute(\"SELECT City, Country FROM Weather WHERE Season = 'Fall' AND Temperature > 20 ORDER BY Temperature ASC\")\n",
    "    fall_temp_records = cursor.fetchall()\n",
    "    print(\"Fall temperature above 20 degrees:\", fall_temp_records)\n",
    "\n",
    "    #Query g) The total annual rainfall for Cairo\n",
    "    cursor.execute(\"SELECT SUM(Rainfall) AS Total_Annual_Rainfall FROM Weather WHERE City = 'Cairo'\")\n",
    "    cairo_rainfall = cursor.fetchone()\n",
    "    print(\"Total annual rainfall for Cairo:\", cairo_rainfall)\n",
    "\n",
    "    #Query h) The total rainfall for each season\n",
    "    cursor.execute(\"SELECT Season, SUM(Rainfall) AS Total_Rainfall FROM Weather GROUP BY Season\")\n",
    "    seasonal_rainfall = cursor.fetchall()\n",
    "    print(\"Total rainfall for each season:\", seasonal_rainfall)\n",
    "\n",
    "    #Close the connection\n",
    "    conn.close()\n",
    "\n",
    "#Execute the functions\n",
    "setup_database()\n",
    "run_queries()"
   ]
  },
  {
   "cell_type": "markdown",
   "id": "5a4aed8c-447c-4913-a0c2-d827ad401660",
   "metadata": {},
   "source": [
    "# Question 9"
   ]
  },
  {
   "cell_type": "code",
   "execution_count": 55,
   "id": "1524a5a1-4ec4-4185-9f5b-e87c6106220b",
   "metadata": {},
   "outputs": [
    {
     "name": "stdout",
     "output_type": "stream",
     "text": [
      "['THE', 'QUICK', 'BROWN', 'FOX', 'JUMPS', 'OVER', 'THE', 'LAZY', 'DOG']\n",
      "['the', 'quick', 'brown', 'fox', 'jumps', 'over', 'the', 'lazy', 'dog']\n",
      "[3, 5, 5, 3, 5, 4, 3, 4, 3]\n",
      "[['THE', 'the', 3], ['QUICK', 'quick', 5], ['BROWN', 'brown', 5], ['FOX', 'fox', 3], ['JUMPS', 'jumps', 5], ['OVER', 'over', 4], ['THE', 'the', 3], ['LAZY', 'lazy', 4], ['DOG', 'dog', 3]]\n",
      "['quick', 'brown', 'jumps', 'over', 'lazy']\n"
     ]
    }
   ],
   "source": [
    "words = [\n",
    "'The', 'quick', 'brown', 'fox', 'jumps', 'over', 'the', 'lazy', 'dog'\n",
    "]\n",
    "#This prints all words upper case\n",
    "print(\n",
    "[x.upper() for x in words]\n",
    ")\n",
    "#This prints all words lower case\n",
    "print(\n",
    "[x.lower() for x in words]\n",
    ")\n",
    "#This prints the length of each word\n",
    "print(\n",
    "[len(x) for x in words]\n",
    ")\n",
    "#This prints the list containing a list for every word of list words,\n",
    "#where each list contains the word in uppercase and lowercase and the length of the word\n",
    "print(\n",
    "[\n",
    "[x.upper(), x.lower(), len(x)\n",
    "] for x in words]\n",
    ")\n",
    "#This prints the list of words in list words containing 4 or more characters\n",
    "print(\n",
    "[x for x in words if len(x)>=4]\n",
    ")\n"
   ]
  }
 ],
 "metadata": {
  "kernelspec": {
   "display_name": "Python 3 (ipykernel)",
   "language": "python",
   "name": "python3"
  },
  "language_info": {
   "codemirror_mode": {
    "name": "ipython",
    "version": 3
   },
   "file_extension": ".py",
   "mimetype": "text/x-python",
   "name": "python",
   "nbconvert_exporter": "python",
   "pygments_lexer": "ipython3",
   "version": "3.11.7"
  }
 },
 "nbformat": 4,
 "nbformat_minor": 5
}
